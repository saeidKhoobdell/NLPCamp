{
 "cells": [
  {
   "cell_type": "markdown",
   "metadata": {
    "id": "KKEAIcE1KLLT"
   },
   "source": [
    "**Install Dependencies**"
   ]
  },
  {
   "cell_type": "code",
   "execution_count": null,
   "metadata": {
    "collapsed": true,
    "id": "vmQmN5UCnbpN"
   },
   "outputs": [],
   "source": [
    "!pip install langchain-community\n",
    "!pip install langchain\n",
    "!pip install sentence-transformers\n",
    "!pip install pdfplumber\n",
    "!pip install chromadb\n",
    "!pip install tiktoken"
   ]
  },
  {
   "cell_type": "markdown",
   "metadata": {
    "id": "2mUZSO3wKeLH"
   },
   "source": [
    "**Import Necessary Libraries**"
   ]
  },
  {
   "cell_type": "code",
   "execution_count": 2,
   "metadata": {
    "executionInfo": {
     "elapsed": 12645,
     "status": "ok",
     "timestamp": 1729453448848,
     "user": {
      "displayName": "AIx64",
      "userId": "13459019903080126407"
     },
     "user_tz": -210
    },
    "id": "aRIjMPmvn8Y1"
   },
   "outputs": [],
   "source": [
    "import torch\n",
    "from transformers import AutoTokenizer,pipeline\n",
    "from langchain.embeddings import HuggingFaceEmbeddings\n",
    "from langchain.document_loaders.pdf import PDFPlumberLoader\n",
    "from langchain.text_splitter import CharacterTextSplitter,TokenTextSplitter\n",
    "from langchain.vectorstores import Chroma\n",
    "from langchain.llms.huggingface_pipeline import HuggingFacePipeline\n",
    "from langchain.chains import RetrievalQA\n",
    "from langchain.prompts import PromptTemplate"
   ]
  },
  {
   "cell_type": "markdown",
   "metadata": {
    "id": "Hekidh5YKpzw"
   },
   "source": [
    "**Create Pipeline for Embedding and Text-Generation**"
   ]
  },
  {
   "cell_type": "code",
   "execution_count": 3,
   "metadata": {
    "colab": {
     "base_uri": "https://localhost:8080/",
     "height": 344,
     "referenced_widgets": [
      "3cfc4c4aa91a4b8ab9e08ef4208b780e",
      "380117d2aa5b448d9a3aa0377097f590",
      "14720c367a22404b85ce307f1280f939",
      "7af1c13c63c54b4ea416d77d7c943531",
      "162897d8db3848d2bc58da153cfe0665",
      "7fab0bef78954446ab58ccfa2fbec02f",
      "749055f278de451ab04d3c0779207f72",
      "d5c43d914dd94198aa04c8c4a05c97d5",
      "2f1ce0e514644168b7dc9eade6ae9df0",
      "268fd8dcfd3c42b69a10a31a59d83786",
      "b868415bd5854a908af708c717f328ee"
     ]
    },
    "collapsed": true,
    "executionInfo": {
     "elapsed": 67532,
     "status": "ok",
     "timestamp": 1729453516376,
     "user": {
      "displayName": "AIx64",
      "userId": "13459019903080126407"
     },
     "user_tz": -210
    },
    "id": "wJ_YLfLFnO6j",
    "outputId": "55c2b2e7-6f3d-4596-bbb1-b41e3654c6ed"
   },
   "outputs": [
    {
     "name": "stderr",
     "output_type": "stream",
     "text": [
      "<ipython-input-3-a284cf56e332>:4: LangChainDeprecationWarning: The class `HuggingFaceEmbeddings` was deprecated in LangChain 0.2.2 and will be removed in 1.0. An updated version of the class exists in the :class:`~langchain-huggingface package and should be used instead. To use it run `pip install -U :class:`~langchain-huggingface` and import as `from :class:`~langchain_huggingface import HuggingFaceEmbeddings``.\n",
      "  return HuggingFaceEmbeddings(model_name=model, model_kwargs={\"device\": device})\n",
      "/usr/local/lib/python3.10/dist-packages/huggingface_hub/utils/_token.py:89: UserWarning: \n",
      "The secret `HF_TOKEN` does not exist in your Colab secrets.\n",
      "To authenticate with the Hugging Face Hub, create a token in your settings tab (https://huggingface.co/settings/tokens), set it as secret in your Google Colab and restart your session.\n",
      "You will be able to reuse this secret in all of your notebooks.\n",
      "Please note that authentication is recommended but still optional to access public models or datasets.\n",
      "  warnings.warn(\n",
      "/usr/local/lib/python3.10/dist-packages/transformers/tokenization_utils_base.py:1601: FutureWarning: `clean_up_tokenization_spaces` was not set. It will be set to `True` by default. This behavior will be depracted in transformers v4.45, and will be then set to `False` by default. For more details check this issue: https://github.com/huggingface/transformers/issues/31884\n",
      "  warnings.warn(\n",
      "/usr/local/lib/python3.10/dist-packages/transformers/generation/configuration_utils.py:567: UserWarning: `do_sample` is set to `False`. However, `temperature` is set to `0.95` -- this flag is only used in sample-based generation modes. You should set `do_sample=True` or unset `temperature`. This was detected when initializing the generation config instance, which means the corresponding file may hold incorrect parameterization and should be fixed.\n",
      "  warnings.warn(\n",
      "/usr/local/lib/python3.10/dist-packages/transformers/generation/configuration_utils.py:567: UserWarning: `do_sample` is set to `False`. However, `temperature` is set to `0.95` -- this flag is only used in sample-based generation modes. You should set `do_sample=True` or unset `temperature`.\n",
      "  warnings.warn(\n"
     ]
    },
    {
     "data": {
      "application/vnd.jupyter.widget-view+json": {
       "model_id": "3cfc4c4aa91a4b8ab9e08ef4208b780e",
       "version_major": 2,
       "version_minor": 0
      },
      "text/plain": [
       "Loading checkpoint shards:   0%|          | 0/2 [00:00<?, ?it/s]"
      ]
     },
     "metadata": {},
     "output_type": "display_data"
    }
   ],
   "source": [
    "def create_sbert_mpnet():\n",
    "        model = \"sentence-transformers/all-mpnet-base-v2\"\n",
    "        device = \"cuda\" if torch.cuda.is_available() else \"cpu\"\n",
    "        return HuggingFaceEmbeddings(model_name=model, model_kwargs={\"device\": device})\n",
    "\n",
    "def create_flan_t5_base(load_in_8bit):\n",
    "        # Wrap it in HF pipeline for use with LangChain\n",
    "        model=\"google/flan-t5-xl\"\n",
    "        tokenizer = AutoTokenizer.from_pretrained(model)\n",
    "        return pipeline(\n",
    "            task=\"text2text-generation\",\n",
    "            model=model,\n",
    "            tokenizer = tokenizer,\n",
    "            max_new_tokens=100,\n",
    "            device_map=\"auto\",\n",
    "            model_kwargs={\"load_in_8bit\": load_in_8bit,\n",
    "                          \"temperature\": 0.95}\n",
    "        )\n",
    "\n",
    "embedding = create_sbert_mpnet()\n",
    "llm = create_flan_t5_base(load_in_8bit=False)"
   ]
  },
  {
   "cell_type": "markdown",
   "metadata": {
    "id": "KGrWa-XUR6lD"
   },
   "source": [
    "**Use LLM to Ask a Question without RAG**"
   ]
  },
  {
   "cell_type": "code",
   "execution_count": 4,
   "metadata": {
    "colab": {
     "base_uri": "https://localhost:8080/"
    },
    "executionInfo": {
     "elapsed": 3405,
     "status": "ok",
     "timestamp": 1729453519774,
     "user": {
      "displayName": "AIx64",
      "userId": "13459019903080126407"
     },
     "user_tz": -210
    },
    "id": "HcMPXhxIQCf4",
    "outputId": "70f56aab-8e0a-422e-f32d-c9ed7c52837a"
   },
   "outputs": [
    {
     "name": "stderr",
     "output_type": "stream",
     "text": [
      "/usr/local/lib/python3.10/dist-packages/transformers/generation/utils.py:1375: UserWarning: You have modified the pretrained model configuration to control generation. This is a deprecated strategy to control generation and will be removed soon, in a future version. Please use and modify the model generation configuration (see https://huggingface.co/docs/transformers/generation_strategies#default-text-generation-configuration )\n",
      "  warnings.warn(\n"
     ]
    },
    {
     "name": "stdout",
     "output_type": "stream",
     "text": [
      "[{'generated_text': 'Grant of Patent in ArangoDB License is a clause in the license that allows the holder of the patent to assert the patent in the United States.'}]\n"
     ]
    }
   ],
   "source": [
    "_question = \"What is Grant of Patent in ArangoDB License?\"\n",
    "\n",
    "prompt = \"Answer the following question. \\n\" + _question\n",
    "res = llm(prompt)\n",
    "print(res)"
   ]
  },
  {
   "cell_type": "markdown",
   "metadata": {
    "id": "wKtO9bE-SKWL"
   },
   "source": [
    "**Use a PDF file as external\n",
    "knowledge source and save it using Chroma vectorDB**"
   ]
  },
  {
   "cell_type": "code",
   "execution_count": 5,
   "metadata": {
    "executionInfo": {
     "elapsed": 2902,
     "status": "ok",
     "timestamp": 1729453522673,
     "user": {
      "displayName": "AIx64",
      "userId": "13459019903080126407"
     },
     "user_tz": -210
    },
    "id": "HLzpIBAtqLQO"
   },
   "outputs": [],
   "source": [
    "pdf_path = \"https://arangodb.com/wp-content/uploads/2023/09/Download-Contributor-License-Agreement.pdf\"\n",
    "# pdf_path = \"https://web.stanford.edu/~jurafsky/slp3/10.pdf\"\n",
    "loader = PDFPlumberLoader(pdf_path)\n",
    "documents = loader.load()\n",
    "\n",
    "# # Split documents and create text snippets\n",
    "# text_splitter = CharacterTextSplitter()\n",
    "# texts = text_splitter.split_documents(documents)\n",
    "text_splitter = TokenTextSplitter(chunk_size=200, chunk_overlap=10)\n",
    "texts = text_splitter.split_documents(documents)\n",
    "\n",
    "persist_directory = \"./chromadb\"\n",
    "vectordb = Chroma.from_documents(documents=texts, embedding=embedding, persist_directory=persist_directory)"
   ]
  },
  {
   "cell_type": "markdown",
   "metadata": {
    "id": "ATDGUchmSuz8"
   },
   "source": [
    "**Print Chunks of extracted texts**"
   ]
  },
  {
   "cell_type": "code",
   "execution_count": 6,
   "metadata": {
    "colab": {
     "base_uri": "https://localhost:8080/"
    },
    "executionInfo": {
     "elapsed": 14,
     "status": "ok",
     "timestamp": 1729453522674,
     "user": {
      "displayName": "AIx64",
      "userId": "13459019903080126407"
     },
     "user_tz": -210
    },
    "id": "4WI1eZ2a1XT8",
    "outputId": "49ddfd22-13cb-489d-9254-bfa568651d08"
   },
   "outputs": [
    {
     "name": "stdout",
     "output_type": "stream",
     "text": [
      "11\n",
      "page_content='ArangoDB GmbH\n",
      "Individual Contributor License Agreement (\"Agreement\")\n",
      "http://www.arangodb.com\n",
      "Thank you for your interest in ArangoDB GmbH (\"ArangoDB\"). In order to\n",
      "clarify the intellectual property license granted with Contributions\n",
      "from any person or entity, ArangoDB must have a Contributor License\n",
      "Agreement (\"CLA\") on file that has been signed by each Contributor,\n",
      "indicating agreement to the license terms below. This license is for\n",
      "your protection as a Contributor as well as the protection of ArangoDB\n",
      "and its users; it does not change your rights to use your own\n",
      "Contributions for any other purpose.\n",
      "If you have not already done so, please complete and sign, then scan\n",
      "and email a pdf file of this Agreement to cla@arangodb.com.\n",
      "Alternatively, you may send it by facsimile to ArangoDB at +49-221' metadata={'source': 'https://arangodb.com/wp-content/uploads/2023/09/Download-Contributor-License-Agreement.pdf', 'file_path': 'https://arangodb.com/wp-content/uploads/2023/09/Download-Contributor-License-Agreement.pdf', 'page': 0, 'total_pages': 4, 'Title': 'Ohne Titel', 'Author': 'Claudius Weinberger', 'Subject': '', 'Producer': 'Mac OS X 10.11.1 Quartz PDFContext', 'Creator': 'Word', 'CreationDate': \"D:20151116212836Z00'00'\", 'ModDate': \"D:20151116212836Z00'00'\", 'Keywords': ''}\n",
      "##**####**####**####**####**####**####**####**####**####**####**####**####**####**####**####**####**####**####**####**##\n",
      "page_content='ile to ArangoDB at +49-221-\n",
      "2722999-88. If necessary, send an original signed Agreement to\n",
      "ArangoDB GmbH, Hohenstaufenring 43-45, 50674 Cologne, Germany\n",
      "Please read this document carefully before signing and keep a copy for\n",
      "your records.\n",
      "Full name: ___________________________________________________________\n",
      "(optional) Public name: ______________________________________________\n",
      "Mailing Address: _____________________________________________________\n",
      "______________________________________________________________________\n",
      "Country: _____________________________________________________________\n",
      "Telephone: ___________________________________________________________\n",
      "E-Mail: ______________________________________________________________\n",
      "You accept and agree to the following terms and conditions for Your\n",
      "past, present and future Contributions submitted to ArangoDB.\n",
      "1. Definitions.\n",
      "\"You\" (or \"Your\") shall mean the copyright owner or legal entity\n",
      "authorized by the copyright owner that is making this Agreement\n",
      "with ArangoDB. For legal entities, the entity making a\n",
      "Contribution and all' metadata={'source': 'https://arangodb.com/wp-content/uploads/2023/09/Download-Contributor-License-Agreement.pdf', 'file_path': 'https://arangodb.com/wp-content/uploads/2023/09/Download-Contributor-License-Agreement.pdf', 'page': 0, 'total_pages': 4, 'Title': 'Ohne Titel', 'Author': 'Claudius Weinberger', 'Subject': '', 'Producer': 'Mac OS X 10.11.1 Quartz PDFContext', 'Creator': 'Word', 'CreationDate': \"D:20151116212836Z00'00'\", 'ModDate': \"D:20151116212836Z00'00'\", 'Keywords': ''}\n",
      "##**####**####**####**####**####**####**####**####**####**####**####**####**####**####**####**####**####**####**####**##\n",
      "page_content=', the entity making a\n",
      "Contribution and all other entities that control, are controlled\n",
      "' metadata={'source': 'https://arangodb.com/wp-content/uploads/2023/09/Download-Contributor-License-Agreement.pdf', 'file_path': 'https://arangodb.com/wp-content/uploads/2023/09/Download-Contributor-License-Agreement.pdf', 'page': 0, 'total_pages': 4, 'Title': 'Ohne Titel', 'Author': 'Claudius Weinberger', 'Subject': '', 'Producer': 'Mac OS X 10.11.1 Quartz PDFContext', 'Creator': 'Word', 'CreationDate': \"D:20151116212836Z00'00'\", 'ModDate': \"D:20151116212836Z00'00'\", 'Keywords': ''}\n",
      "##**####**####**####**####**####**####**####**####**####**####**####**####**####**####**####**####**####**####**####**##\n",
      "page_content='by, or are under common control with that entity are considered to\n",
      "be a single Contributor. For the purposes of this definition,\n",
      "\"control\" means\n",
      "(i) the power, direct or indirect, to cause the direction or\n",
      "management of such entity, whether by contract or\n",
      "otherwise, or\n",
      "(ii) ownership of fifty percent (50%) or more of the\n",
      "outstanding shares, or\n",
      "(iii) beneficial ownership of such entity.\n",
      "\"Contribution\" shall mean any original work of authorship,\n",
      "including any modifications or additions to an existing work, that\n",
      "is intentionally submitted by You to ArangoDB for inclusion in, or\n",
      "documentation of, any of the products owned or managed by ArangoDB\n",
      "(the \"Work\"). For the purposes of this definition, \"submitted\"\n",
      "means any form of electronic, verbal, or written communication\n",
      "sent to ArangoDB or its representatives, including but not limited\n",
      "to communication on electronic' metadata={'source': 'https://arangodb.com/wp-content/uploads/2023/09/Download-Contributor-License-Agreement.pdf', 'file_path': 'https://arangodb.com/wp-content/uploads/2023/09/Download-Contributor-License-Agreement.pdf', 'page': 1, 'total_pages': 4, 'Title': 'Ohne Titel', 'Author': 'Claudius Weinberger', 'Subject': '', 'Producer': 'Mac OS X 10.11.1 Quartz PDFContext', 'Creator': 'Word', 'CreationDate': \"D:20151116212836Z00'00'\", 'ModDate': \"D:20151116212836Z00'00'\", 'Keywords': ''}\n",
      "##**####**####**####**####**####**####**####**####**####**####**####**####**####**####**####**####**####**####**####**##\n"
     ]
    }
   ],
   "source": [
    "print(len(texts))\n",
    "\n",
    "for t in texts[:4]:\n",
    "  print(t)\n",
    "  print(\"##**##\"*20)"
   ]
  },
  {
   "cell_type": "markdown",
   "metadata": {
    "id": "RJ-QITEVTCJW"
   },
   "source": [
    "**Print examples of data saved in the VectorDB**"
   ]
  },
  {
   "cell_type": "code",
   "execution_count": 7,
   "metadata": {
    "colab": {
     "base_uri": "https://localhost:8080/"
    },
    "collapsed": true,
    "executionInfo": {
     "elapsed": 11,
     "status": "ok",
     "timestamp": 1729453522674,
     "user": {
      "displayName": "AIx64",
      "userId": "13459019903080126407"
     },
     "user_tz": -210
    },
    "id": "vDdbzGNiFW2w",
    "outputId": "dfb90d44-7950-442b-9666-f30ffe95b76d"
   },
   "outputs": [
    {
     "name": "stdout",
     "output_type": "stream",
     "text": [
      "['ArangoDB GmbH\\nIndividual Contributor License Agreement (\"Agreement\")\\nhttp://www.arangodb.com\\nThank you for your interest in ArangoDB GmbH (\"ArangoDB\"). In order to\\nclarify the intellectual property license granted with Contributions\\nfrom any person or entity, ArangoDB must have a Contributor License\\nAgreement (\"CLA\") on file that has been signed by each Contributor,\\nindicating agreement to the license terms below. This license is for\\nyour protection as a Contributor as well as the protection of ArangoDB\\nand its users; it does not change your rights to use your own\\nContributions for any other purpose.\\nIf you have not already done so, please complete and sign, then scan\\nand email a pdf file of this Agreement to cla@arangodb.com.\\nAlternatively, you may send it by facsimile to ArangoDB at +49-221', 'ile to ArangoDB at +49-221-\\n2722999-88. If necessary, send an original signed Agreement to\\nArangoDB GmbH, Hohenstaufenring 43-45, 50674 Cologne, Germany\\nPlease read this document carefully before signing and keep a copy for\\nyour records.\\nFull name: ___________________________________________________________\\n(optional) Public name: ______________________________________________\\nMailing Address: _____________________________________________________\\n______________________________________________________________________\\nCountry: _____________________________________________________________\\nTelephone: ___________________________________________________________\\nE-Mail: ______________________________________________________________\\nYou accept and agree to the following terms and conditions for Your\\npast, present and future Contributions submitted to ArangoDB.\\n1. Definitions.\\n\"You\" (or \"Your\") shall mean the copyright owner or legal entity\\nauthorized by the copyright owner that is making this Agreement\\nwith ArangoDB. For legal entities, the entity making a\\nContribution and all']\n",
      "[[ 0.02891247  0.00946614 -0.00823105 ... -0.04534356 -0.04042712\n",
      "  -0.02923464]\n",
      " [ 0.04641858  0.03445774 -0.01312053 ... -0.03925829 -0.07746063\n",
      "  -0.01688074]]\n",
      "[{'Author': 'Claudius Weinberger', 'CreationDate': \"D:20151116212836Z00'00'\", 'Creator': 'Word', 'Keywords': '', 'ModDate': \"D:20151116212836Z00'00'\", 'Producer': 'Mac OS X 10.11.1 Quartz PDFContext', 'Subject': '', 'Title': 'Ohne Titel', 'file_path': 'https://arangodb.com/wp-content/uploads/2023/09/Download-Contributor-License-Agreement.pdf', 'page': 0, 'source': 'https://arangodb.com/wp-content/uploads/2023/09/Download-Contributor-License-Agreement.pdf', 'total_pages': 4}, {'Author': 'Claudius Weinberger', 'CreationDate': \"D:20151116212836Z00'00'\", 'Creator': 'Word', 'Keywords': '', 'ModDate': \"D:20151116212836Z00'00'\", 'Producer': 'Mac OS X 10.11.1 Quartz PDFContext', 'Subject': '', 'Title': 'Ohne Titel', 'file_path': 'https://arangodb.com/wp-content/uploads/2023/09/Download-Contributor-License-Agreement.pdf', 'page': 0, 'source': 'https://arangodb.com/wp-content/uploads/2023/09/Download-Contributor-License-Agreement.pdf', 'total_pages': 4}]\n"
     ]
    }
   ],
   "source": [
    "vdb = vectordb.get(include=['embeddings', 'documents', 'metadatas'])\n",
    "num=2\n",
    "print(vdb['documents'][:num])\n",
    "print(vdb['embeddings'][:num])\n",
    "print(vdb['metadatas'][:num])"
   ]
  },
  {
   "cell_type": "markdown",
   "metadata": {
    "id": "aOII-PWCTOiX"
   },
   "source": [
    "**Create RAG Framework**"
   ]
  },
  {
   "cell_type": "code",
   "execution_count": 8,
   "metadata": {
    "colab": {
     "base_uri": "https://localhost:8080/"
    },
    "executionInfo": {
     "elapsed": 8,
     "status": "ok",
     "timestamp": 1729453522674,
     "user": {
      "displayName": "AIx64",
      "userId": "13459019903080126407"
     },
     "user_tz": -210
    },
    "id": "AwP9dJO0tMv7",
    "outputId": "d0a962a6-782d-4e56-b079-1d67c9772a2f"
   },
   "outputs": [
    {
     "name": "stderr",
     "output_type": "stream",
     "text": [
      "<ipython-input-8-d10364f6ded4>:1: LangChainDeprecationWarning: The class `HuggingFacePipeline` was deprecated in LangChain 0.0.37 and will be removed in 1.0. An updated version of the class exists in the :class:`~langchain-huggingface package and should be used instead. To use it run `pip install -U :class:`~langchain-huggingface` and import as `from :class:`~langchain_huggingface import HuggingFacePipeline``.\n",
      "  hf_llm = HuggingFacePipeline(pipeline=llm)\n"
     ]
    }
   ],
   "source": [
    "hf_llm = HuggingFacePipeline(pipeline=llm)\n",
    "retriever = vectordb.as_retriever(search_kwargs={\"k\":1})\n",
    "qa = RetrievalQA.from_chain_type(llm=hf_llm, chain_type=\"stuff\",retriever=retriever)\n",
    "\n",
    "# Defining a default prompt for flan models\n",
    "question_t5_template = \"\"\"\n",
    "context: {context}\n",
    "question: {question}\n",
    "answer:\n",
    "\"\"\"\n",
    "QUESTION_T5_PROMPT = PromptTemplate(\n",
    "    template=question_t5_template, input_variables=[\"context\", \"question\"]\n",
    ")\n",
    "qa.combine_documents_chain.llm_chain.prompt = QUESTION_T5_PROMPT"
   ]
  },
  {
   "cell_type": "markdown",
   "metadata": {
    "id": "pO2B-a04TZDM"
   },
   "source": [
    "**Run RAG Framework**"
   ]
  },
  {
   "cell_type": "code",
   "execution_count": 9,
   "metadata": {
    "colab": {
     "base_uri": "https://localhost:8080/"
    },
    "executionInfo": {
     "elapsed": 2886,
     "status": "ok",
     "timestamp": 1729453525554,
     "user": {
      "displayName": "AIx64",
      "userId": "13459019903080126407"
     },
     "user_tz": -210
    },
    "id": "HSOP0d32vdgR",
    "outputId": "51cb3e86-f03e-46b3-d678-190492ef9c08"
   },
   "outputs": [
    {
     "name": "stderr",
     "output_type": "stream",
     "text": [
      "<ipython-input-9-6264464780b0>:3: LangChainDeprecationWarning: The method `Chain.__call__` was deprecated in langchain 0.1.0 and will be removed in 1.0. Use :meth:`~invoke` instead.\n",
      "  qa({\"query\":_question,})\n",
      "/usr/local/lib/python3.10/dist-packages/transformers/generation/configuration_utils.py:567: UserWarning: `do_sample` is set to `False`. However, `temperature` is set to `0.95` -- this flag is only used in sample-based generation modes. You should set `do_sample=True` or unset `temperature`. This was detected when initializing the generation config instance, which means the corresponding file may hold incorrect parameterization and should be fixed.\n",
      "  warnings.warn(\n",
      "/usr/local/lib/python3.10/dist-packages/transformers/generation/configuration_utils.py:567: UserWarning: `do_sample` is set to `False`. However, `temperature` is set to `0.95` -- this flag is only used in sample-based generation modes. You should set `do_sample=True` or unset `temperature`.\n",
      "  warnings.warn(\n"
     ]
    },
    {
     "name": "stdout",
     "output_type": "stream",
     "text": [
      "\n",
      "\n",
      "\u001b[1m> Entering new StuffDocumentsChain chain...\u001b[0m\n",
      "\n",
      "\u001b[1m> Finished chain.\u001b[0m\n"
     ]
    },
    {
     "data": {
      "text/plain": [
       "{'query': 'What is Grant of Patent in ArangoDB License?',\n",
       " 'result': 'a perpetual, worldwide, non-exclusive, no-charge, royalty-free, irrevocable (except as stated in this section) patent license to make, have made, use, offer to sell, sell, import, and otherwise transfer the Work',\n",
       " 'source_documents': [Document(metadata={'Author': 'Claudius Weinberger', 'CreationDate': \"D:20151116212836Z00'00'\", 'Creator': 'Word', 'Keywords': '', 'ModDate': \"D:20151116212836Z00'00'\", 'Producer': 'Mac OS X 10.11.1 Quartz PDFContext', 'Subject': '', 'Title': 'Ohne Titel', 'file_path': 'https://arangodb.com/wp-content/uploads/2023/09/Download-Contributor-License-Agreement.pdf', 'page': 1, 'source': 'https://arangodb.com/wp-content/uploads/2023/09/Download-Contributor-License-Agreement.pdf', 'total_pages': 4}, page_content='grant to ArangoDB and to recipients of software distributed by\\nArangoDB a perpetual, worldwide, non-exclusive, no-charge,\\nroyalty-free, irrevocable (except as stated in this section)\\npatent license to make, have made, use, offer to sell, sell,\\nimport, and otherwise transfer the Work, where such license\\napplies only to those patent claims licensable by You that are\\nnecessarily infringed by Your Contribution(s) alone or by\\ncombination of Your Contribution(s) with the Work to which such\\nContribution(s) was submitted. If any entity institutes patent\\nlitigation against You or any other entity (including a cross-\\nclaim or counterclaim in a lawsuit) alleging that your\\nContribution, or the Work to which you have contributed,\\nconstitutes direct or contributory patent infringement, then any\\npatent licenses granted to that entity under this Agreement for')]}"
      ]
     },
     "execution_count": 9,
     "metadata": {},
     "output_type": "execute_result"
    }
   ],
   "source": [
    "qa.combine_documents_chain.verbose = True\n",
    "qa.return_source_documents = True\n",
    "qa({\"query\":_question,})\n"
   ]
  },
  {
   "cell_type": "markdown",
   "metadata": {
    "id": "alCATC6RTdPw"
   },
   "source": [
    "**Run the Retriever for the question**"
   ]
  },
  {
   "cell_type": "code",
   "execution_count": 10,
   "metadata": {
    "colab": {
     "base_uri": "https://localhost:8080/"
    },
    "executionInfo": {
     "elapsed": 13,
     "status": "ok",
     "timestamp": 1729453525554,
     "user": {
      "displayName": "AIx64",
      "userId": "13459019903080126407"
     },
     "user_tz": -210
    },
    "id": "zUS9GzswH23B",
    "outputId": "3f75f7d5-f7d2-4df8-93c3-6794e87bf7a2"
   },
   "outputs": [
    {
     "name": "stderr",
     "output_type": "stream",
     "text": [
      "<ipython-input-10-3cec796f3033>:1: LangChainDeprecationWarning: The method `BaseRetriever.get_relevant_documents` was deprecated in langchain-core 0.1.46 and will be removed in 1.0. Use :meth:`~invoke` instead.\n",
      "  retriever.get_relevant_documents(_question)\n"
     ]
    },
    {
     "data": {
      "text/plain": [
       "[Document(metadata={'Author': 'Claudius Weinberger', 'CreationDate': \"D:20151116212836Z00'00'\", 'Creator': 'Word', 'Keywords': '', 'ModDate': \"D:20151116212836Z00'00'\", 'Producer': 'Mac OS X 10.11.1 Quartz PDFContext', 'Subject': '', 'Title': 'Ohne Titel', 'file_path': 'https://arangodb.com/wp-content/uploads/2023/09/Download-Contributor-License-Agreement.pdf', 'page': 1, 'source': 'https://arangodb.com/wp-content/uploads/2023/09/Download-Contributor-License-Agreement.pdf', 'total_pages': 4}, page_content='grant to ArangoDB and to recipients of software distributed by\\nArangoDB a perpetual, worldwide, non-exclusive, no-charge,\\nroyalty-free, irrevocable (except as stated in this section)\\npatent license to make, have made, use, offer to sell, sell,\\nimport, and otherwise transfer the Work, where such license\\napplies only to those patent claims licensable by You that are\\nnecessarily infringed by Your Contribution(s) alone or by\\ncombination of Your Contribution(s) with the Work to which such\\nContribution(s) was submitted. If any entity institutes patent\\nlitigation against You or any other entity (including a cross-\\nclaim or counterclaim in a lawsuit) alleging that your\\nContribution, or the Work to which you have contributed,\\nconstitutes direct or contributory patent infringement, then any\\npatent licenses granted to that entity under this Agreement for')]"
      ]
     },
     "execution_count": 10,
     "metadata": {},
     "output_type": "execute_result"
    }
   ],
   "source": [
    "retriever.get_relevant_documents(_question)"
   ]
  },
  {
   "cell_type": "code",
   "execution_count": 11,
   "metadata": {
    "colab": {
     "base_uri": "https://localhost:8080/"
    },
    "executionInfo": {
     "elapsed": 9,
     "status": "ok",
     "timestamp": 1729453525554,
     "user": {
      "displayName": "AIx64",
      "userId": "13459019903080126407"
     },
     "user_tz": -210
    },
    "id": "Cp99TlTDXEaG",
    "outputId": "8e871fcf-7943-4b14-9387-90bd79cc67af"
   },
   "outputs": [
    {
     "data": {
      "text/plain": [
       "{'context': 'grant to ArangoDB and to recipients of software distributed by\\nArangoDB a perpetual, worldwide, non-exclusive, no-charge,\\nroyalty-free, irrevocable (except as stated in this section)\\npatent license to make, have made, use, offer to sell, sell,\\nimport, and otherwise transfer the Work, where such license\\napplies only to those patent claims licensable by You that are\\nnecessarily infringed by Your Contribution(s) alone or by\\ncombination of Your Contribution(s) with the Work to which such\\nContribution(s) was submitted. If any entity institutes patent\\nlitigation against You or any other entity (including a cross-\\nclaim or counterclaim in a lawsuit) alleging that your\\nContribution, or the Work to which you have contributed,\\nconstitutes direct or contributory patent infringement, then any\\npatent licenses granted to that entity under this Agreement for'}"
      ]
     },
     "execution_count": 11,
     "metadata": {},
     "output_type": "execute_result"
    }
   ],
   "source": [
    "ret = retriever.invoke(_question)\n",
    "qa.combine_documents_chain._get_inputs(ret)"
   ]
  },
  {
   "cell_type": "markdown",
   "metadata": {
    "id": "UPkkgJYeT1dS"
   },
   "source": [
    "**Add Context to the Prompt**"
   ]
  },
  {
   "cell_type": "code",
   "execution_count": 12,
   "metadata": {
    "colab": {
     "base_uri": "https://localhost:8080/",
     "height": 232
    },
    "executionInfo": {
     "elapsed": 9,
     "status": "ok",
     "timestamp": 1729453525555,
     "user": {
      "displayName": "AIx64",
      "userId": "13459019903080126407"
     },
     "user_tz": -210
    },
    "id": "ujDn-C8utdOX",
    "outputId": "6ca77c44-d2d5-4b58-a6a6-578516269bf0"
   },
   "outputs": [
    {
     "data": {
      "application/vnd.google.colaboratory.intrinsic+json": {
       "type": "string"
      },
      "text/plain": [
       "'\\ncontext: grant to ArangoDB and to recipients of software distributed by\\nArangoDB a perpetual, worldwide, non-exclusive, no-charge,\\nroyalty-free, irrevocable (except as stated in this section)\\npatent license to make, have made, use, offer to sell, sell,\\nimport, and otherwise transfer the Work, where such license\\napplies only to those patent claims licensable by You that are\\nnecessarily infringed by Your Contribution(s) alone or by\\ncombination of Your Contribution(s) with the Work to which such\\nContribution(s) was submitted. If any entity institutes patent\\nlitigation against You or any other entity (including a cross-\\nclaim or counterclaim in a lawsuit) alleging that your\\nContribution, or the Work to which you have contributed,\\nconstitutes direct or contributory patent infringement, then any\\npatent licenses granted to that entity under this Agreement for\\nquestion: What is Grant of Patent in ArangoDB License?\\nanswer:\\n'"
      ]
     },
     "execution_count": 12,
     "metadata": {},
     "output_type": "execute_result"
    }
   ],
   "source": [
    "QUESTION_T5_PROMPT.format(question=_question,context=ret[0].page_content)"
   ]
  }
 ],
 "metadata": {
  "accelerator": "GPU",
  "colab": {
   "gpuType": "T4",
   "provenance": [
    {
     "file_id": "1Y_WdsbbvnxCV4nNBDlesby7KnEJWztPt",
     "timestamp": 1729534974294
    }
   ]
  },
  "kernelspec": {
   "display_name": "pytorch",
   "language": "python",
   "name": "python3"
  },
  "language_info": {
   "codemirror_mode": {
    "name": "ipython",
    "version": 3
   },
   "file_extension": ".py",
   "mimetype": "text/x-python",
   "name": "python",
   "nbconvert_exporter": "python",
   "pygments_lexer": "ipython3",
   "version": "3.10.4"
  },
  "widgets": {
   "application/vnd.jupyter.widget-state+json": {
    "14720c367a22404b85ce307f1280f939": {
     "model_module": "@jupyter-widgets/controls",
     "model_module_version": "1.5.0",
     "model_name": "FloatProgressModel",
     "state": {
      "_dom_classes": [],
      "_model_module": "@jupyter-widgets/controls",
      "_model_module_version": "1.5.0",
      "_model_name": "FloatProgressModel",
      "_view_count": null,
      "_view_module": "@jupyter-widgets/controls",
      "_view_module_version": "1.5.0",
      "_view_name": "ProgressView",
      "bar_style": "success",
      "description": "",
      "description_tooltip": null,
      "layout": "IPY_MODEL_d5c43d914dd94198aa04c8c4a05c97d5",
      "max": 2,
      "min": 0,
      "orientation": "horizontal",
      "style": "IPY_MODEL_2f1ce0e514644168b7dc9eade6ae9df0",
      "value": 2
     }
    },
    "162897d8db3848d2bc58da153cfe0665": {
     "model_module": "@jupyter-widgets/base",
     "model_module_version": "1.2.0",
     "model_name": "LayoutModel",
     "state": {
      "_model_module": "@jupyter-widgets/base",
      "_model_module_version": "1.2.0",
      "_model_name": "LayoutModel",
      "_view_count": null,
      "_view_module": "@jupyter-widgets/base",
      "_view_module_version": "1.2.0",
      "_view_name": "LayoutView",
      "align_content": null,
      "align_items": null,
      "align_self": null,
      "border": null,
      "bottom": null,
      "display": null,
      "flex": null,
      "flex_flow": null,
      "grid_area": null,
      "grid_auto_columns": null,
      "grid_auto_flow": null,
      "grid_auto_rows": null,
      "grid_column": null,
      "grid_gap": null,
      "grid_row": null,
      "grid_template_areas": null,
      "grid_template_columns": null,
      "grid_template_rows": null,
      "height": null,
      "justify_content": null,
      "justify_items": null,
      "left": null,
      "margin": null,
      "max_height": null,
      "max_width": null,
      "min_height": null,
      "min_width": null,
      "object_fit": null,
      "object_position": null,
      "order": null,
      "overflow": null,
      "overflow_x": null,
      "overflow_y": null,
      "padding": null,
      "right": null,
      "top": null,
      "visibility": null,
      "width": null
     }
    },
    "268fd8dcfd3c42b69a10a31a59d83786": {
     "model_module": "@jupyter-widgets/base",
     "model_module_version": "1.2.0",
     "model_name": "LayoutModel",
     "state": {
      "_model_module": "@jupyter-widgets/base",
      "_model_module_version": "1.2.0",
      "_model_name": "LayoutModel",
      "_view_count": null,
      "_view_module": "@jupyter-widgets/base",
      "_view_module_version": "1.2.0",
      "_view_name": "LayoutView",
      "align_content": null,
      "align_items": null,
      "align_self": null,
      "border": null,
      "bottom": null,
      "display": null,
      "flex": null,
      "flex_flow": null,
      "grid_area": null,
      "grid_auto_columns": null,
      "grid_auto_flow": null,
      "grid_auto_rows": null,
      "grid_column": null,
      "grid_gap": null,
      "grid_row": null,
      "grid_template_areas": null,
      "grid_template_columns": null,
      "grid_template_rows": null,
      "height": null,
      "justify_content": null,
      "justify_items": null,
      "left": null,
      "margin": null,
      "max_height": null,
      "max_width": null,
      "min_height": null,
      "min_width": null,
      "object_fit": null,
      "object_position": null,
      "order": null,
      "overflow": null,
      "overflow_x": null,
      "overflow_y": null,
      "padding": null,
      "right": null,
      "top": null,
      "visibility": null,
      "width": null
     }
    },
    "2f1ce0e514644168b7dc9eade6ae9df0": {
     "model_module": "@jupyter-widgets/controls",
     "model_module_version": "1.5.0",
     "model_name": "ProgressStyleModel",
     "state": {
      "_model_module": "@jupyter-widgets/controls",
      "_model_module_version": "1.5.0",
      "_model_name": "ProgressStyleModel",
      "_view_count": null,
      "_view_module": "@jupyter-widgets/base",
      "_view_module_version": "1.2.0",
      "_view_name": "StyleView",
      "bar_color": null,
      "description_width": ""
     }
    },
    "380117d2aa5b448d9a3aa0377097f590": {
     "model_module": "@jupyter-widgets/controls",
     "model_module_version": "1.5.0",
     "model_name": "HTMLModel",
     "state": {
      "_dom_classes": [],
      "_model_module": "@jupyter-widgets/controls",
      "_model_module_version": "1.5.0",
      "_model_name": "HTMLModel",
      "_view_count": null,
      "_view_module": "@jupyter-widgets/controls",
      "_view_module_version": "1.5.0",
      "_view_name": "HTMLView",
      "description": "",
      "description_tooltip": null,
      "layout": "IPY_MODEL_7fab0bef78954446ab58ccfa2fbec02f",
      "placeholder": "​",
      "style": "IPY_MODEL_749055f278de451ab04d3c0779207f72",
      "value": "Loading checkpoint shards: 100%"
     }
    },
    "3cfc4c4aa91a4b8ab9e08ef4208b780e": {
     "model_module": "@jupyter-widgets/controls",
     "model_module_version": "1.5.0",
     "model_name": "HBoxModel",
     "state": {
      "_dom_classes": [],
      "_model_module": "@jupyter-widgets/controls",
      "_model_module_version": "1.5.0",
      "_model_name": "HBoxModel",
      "_view_count": null,
      "_view_module": "@jupyter-widgets/controls",
      "_view_module_version": "1.5.0",
      "_view_name": "HBoxView",
      "box_style": "",
      "children": [
       "IPY_MODEL_380117d2aa5b448d9a3aa0377097f590",
       "IPY_MODEL_14720c367a22404b85ce307f1280f939",
       "IPY_MODEL_7af1c13c63c54b4ea416d77d7c943531"
      ],
      "layout": "IPY_MODEL_162897d8db3848d2bc58da153cfe0665"
     }
    },
    "749055f278de451ab04d3c0779207f72": {
     "model_module": "@jupyter-widgets/controls",
     "model_module_version": "1.5.0",
     "model_name": "DescriptionStyleModel",
     "state": {
      "_model_module": "@jupyter-widgets/controls",
      "_model_module_version": "1.5.0",
      "_model_name": "DescriptionStyleModel",
      "_view_count": null,
      "_view_module": "@jupyter-widgets/base",
      "_view_module_version": "1.2.0",
      "_view_name": "StyleView",
      "description_width": ""
     }
    },
    "7af1c13c63c54b4ea416d77d7c943531": {
     "model_module": "@jupyter-widgets/controls",
     "model_module_version": "1.5.0",
     "model_name": "HTMLModel",
     "state": {
      "_dom_classes": [],
      "_model_module": "@jupyter-widgets/controls",
      "_model_module_version": "1.5.0",
      "_model_name": "HTMLModel",
      "_view_count": null,
      "_view_module": "@jupyter-widgets/controls",
      "_view_module_version": "1.5.0",
      "_view_name": "HTMLView",
      "description": "",
      "description_tooltip": null,
      "layout": "IPY_MODEL_268fd8dcfd3c42b69a10a31a59d83786",
      "placeholder": "​",
      "style": "IPY_MODEL_b868415bd5854a908af708c717f328ee",
      "value": " 2/2 [00:56&lt;00:00, 25.07s/it]"
     }
    },
    "7fab0bef78954446ab58ccfa2fbec02f": {
     "model_module": "@jupyter-widgets/base",
     "model_module_version": "1.2.0",
     "model_name": "LayoutModel",
     "state": {
      "_model_module": "@jupyter-widgets/base",
      "_model_module_version": "1.2.0",
      "_model_name": "LayoutModel",
      "_view_count": null,
      "_view_module": "@jupyter-widgets/base",
      "_view_module_version": "1.2.0",
      "_view_name": "LayoutView",
      "align_content": null,
      "align_items": null,
      "align_self": null,
      "border": null,
      "bottom": null,
      "display": null,
      "flex": null,
      "flex_flow": null,
      "grid_area": null,
      "grid_auto_columns": null,
      "grid_auto_flow": null,
      "grid_auto_rows": null,
      "grid_column": null,
      "grid_gap": null,
      "grid_row": null,
      "grid_template_areas": null,
      "grid_template_columns": null,
      "grid_template_rows": null,
      "height": null,
      "justify_content": null,
      "justify_items": null,
      "left": null,
      "margin": null,
      "max_height": null,
      "max_width": null,
      "min_height": null,
      "min_width": null,
      "object_fit": null,
      "object_position": null,
      "order": null,
      "overflow": null,
      "overflow_x": null,
      "overflow_y": null,
      "padding": null,
      "right": null,
      "top": null,
      "visibility": null,
      "width": null
     }
    },
    "b868415bd5854a908af708c717f328ee": {
     "model_module": "@jupyter-widgets/controls",
     "model_module_version": "1.5.0",
     "model_name": "DescriptionStyleModel",
     "state": {
      "_model_module": "@jupyter-widgets/controls",
      "_model_module_version": "1.5.0",
      "_model_name": "DescriptionStyleModel",
      "_view_count": null,
      "_view_module": "@jupyter-widgets/base",
      "_view_module_version": "1.2.0",
      "_view_name": "StyleView",
      "description_width": ""
     }
    },
    "d5c43d914dd94198aa04c8c4a05c97d5": {
     "model_module": "@jupyter-widgets/base",
     "model_module_version": "1.2.0",
     "model_name": "LayoutModel",
     "state": {
      "_model_module": "@jupyter-widgets/base",
      "_model_module_version": "1.2.0",
      "_model_name": "LayoutModel",
      "_view_count": null,
      "_view_module": "@jupyter-widgets/base",
      "_view_module_version": "1.2.0",
      "_view_name": "LayoutView",
      "align_content": null,
      "align_items": null,
      "align_self": null,
      "border": null,
      "bottom": null,
      "display": null,
      "flex": null,
      "flex_flow": null,
      "grid_area": null,
      "grid_auto_columns": null,
      "grid_auto_flow": null,
      "grid_auto_rows": null,
      "grid_column": null,
      "grid_gap": null,
      "grid_row": null,
      "grid_template_areas": null,
      "grid_template_columns": null,
      "grid_template_rows": null,
      "height": null,
      "justify_content": null,
      "justify_items": null,
      "left": null,
      "margin": null,
      "max_height": null,
      "max_width": null,
      "min_height": null,
      "min_width": null,
      "object_fit": null,
      "object_position": null,
      "order": null,
      "overflow": null,
      "overflow_x": null,
      "overflow_y": null,
      "padding": null,
      "right": null,
      "top": null,
      "visibility": null,
      "width": null
     }
    }
   }
  }
 },
 "nbformat": 4,
 "nbformat_minor": 0
}
